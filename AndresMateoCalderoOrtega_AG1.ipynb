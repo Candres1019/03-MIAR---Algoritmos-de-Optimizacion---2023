{
  "nbformat": 4,
  "nbformat_minor": 0,
  "metadata": {
    "colab": {
      "provenance": [],
      "collapsed_sections": [
        "oPoRc29Kxxqr",
        "WQasK7kT0vnA",
        "Bp5_XmyPIDHw"
      ]
    },
    "kernelspec": {
      "name": "python3",
      "display_name": "Python 3"
    },
    "language_info": {
      "name": "python"
    }
  },
  "cells": [
    {
      "cell_type": "markdown",
      "metadata": {
        "id": "GG2D6vLdYwwy"
      },
      "source": [
        "Actividad Guiada 1 de Algoritmos de Optimizacion\n",
        "\n",
        "Nombre: Andres Mateo Calderon Ortega\n",
        "\n",
        "https://colab.research.google.com/drive/1haiG_UXXm0YhvhXGGVFTzMJ-tx-wnILO?usp=sharing\n",
        "\n",
        "https://github.com/Candres1019/03-MIAR---Algoritmos-de-Optimizacion---2023"
      ]
    },
    {
      "cell_type": "code",
      "metadata": {
        "id": "rTiqLuX2ZKuL",
        "outputId": "da4b3949-6767-4ec0-ad67-d73788bd5040",
        "colab": {
          "base_uri": "https://localhost:8080/"
        }
      },
      "source": [
        "#Torres de Hanoi - Divide y venceras\n",
        "################################################################################\n",
        "\n",
        "################################################################\n",
        "def Torres_Hanoi(N, desde, hasta):\n",
        "  #N - Nº de fichas\n",
        "  #desde - torre inicial\n",
        "  #hasta - torre fina\n",
        "  if N == 1 :\n",
        "    print(\"Lleva la ficha desde \" + str(desde) + \" hasta \" + str(hasta))\n",
        "\n",
        "  else:\n",
        "    pivote = 6-desde-hasta #6-desde-hasta encuentra si es (1,2,3)\n",
        "    Torres_Hanoi(N-1, desde, pivote)\n",
        "    print(\"Lleva la ficha desde \" + str(desde) + \" hasta \" + str(hasta))\n",
        "    Torres_Hanoi(N-1, pivote,  hasta)\n",
        "\n",
        "Torres_Hanoi(3, 1, 3)\n",
        "################################################################"
      ],
      "execution_count": null,
      "outputs": [
        {
          "output_type": "stream",
          "name": "stdout",
          "text": [
            "Lleva la ficha desde 1 hasta 3\n",
            "Lleva la ficha desde 1 hasta 2\n",
            "Lleva la ficha desde 3 hasta 2\n",
            "Lleva la ficha desde 1 hasta 3\n",
            "Lleva la ficha desde 2 hasta 1\n",
            "Lleva la ficha desde 2 hasta 3\n",
            "Lleva la ficha desde 1 hasta 3\n"
          ]
        }
      ]
    },
    {
      "cell_type": "code",
      "metadata": {
        "id": "UTL6wiczQVDA"
      },
      "source": [],
      "execution_count": null,
      "outputs": []
    },
    {
      "cell_type": "code",
      "metadata": {
        "id": "YwBudj2hYoMR",
        "colab": {
          "base_uri": "https://localhost:8080/",
          "height": 54
        },
        "outputId": "0c1ea18a-0b6c-4286-85ee-4da4b32e8dd7"
      },
      "source": [
        "# Cambio de monedas - Técnica voraz\n",
        "################################################################################\n",
        "SISTEMA = [25, 10, 5, 1]\n",
        "SISTEMA_2 = [11, 5, 1]\n",
        "################################################################\n",
        "def cambio_monedas(CANTIDAD,SISTEMA):\n",
        "  SOLUCION = [0] * len(SISTEMA)\n",
        "  ValorAcumulado = 0\n",
        "\n",
        "  for i,valor in enumerate(SISTEMA):\n",
        "    monedas = (CANTIDAD - ValorAcumulado) // valor\n",
        "    SOLUCION[i] = monedas\n",
        "    ValorAcumulado = ValorAcumulado + monedas*valor\n",
        "\n",
        "    if CANTIDAD == ValorAcumulado:\n",
        "      return SOLUCION\n",
        "\n",
        "  print(\"No es posible encontrar solucion\")\n",
        "\n",
        "\n",
        "display(\"Sistema 1: \" + str(cambio_monedas(37, SISTEMA)))\n",
        "display(\"Sistema 2: \" + str(cambio_monedas(15, SISTEMA_2)))\n",
        "\n",
        "################################################################"
      ],
      "execution_count": null,
      "outputs": [
        {
          "output_type": "display_data",
          "data": {
            "text/plain": [
              "'Sistema 1: [1, 1, 0, 2]'"
            ],
            "application/vnd.google.colaboratory.intrinsic+json": {
              "type": "string"
            }
          },
          "metadata": {}
        },
        {
          "output_type": "display_data",
          "data": {
            "text/plain": [
              "'Sistema 2: [1, 0, 4]'"
            ],
            "application/vnd.google.colaboratory.intrinsic+json": {
              "type": "string"
            }
          },
          "metadata": {}
        }
      ]
    },
    {
      "cell_type": "code",
      "metadata": {
        "id": "H4Iwt2XRZTFr"
      },
      "source": [
        "# N Reinas - Vuelta Atrás()\n",
        "################################################################################\n",
        "\n",
        "# Verifica que en la solución parcial no hay amenzas entre reinas\n",
        "################################################################\n",
        "def es_prometedora(SOLUCION,etapa):\n",
        "################################################################\n",
        "  # print(SOLUCION)\n",
        "  # Si la solución tiene dos valores iguales no es valida => Dos reinas en la misma fila\n",
        "  for i in range(etapa+1):\n",
        "    # print(\"El valor \" + str(SOLUCION[i]) + \" está \" +  str(SOLUCION.count(SOLUCION[i])) + \" veces\")\n",
        "    if SOLUCION.count(SOLUCION[i]) > 1:\n",
        "      return False\n",
        "\n",
        "    # Verifica las diagonales\n",
        "    for j in range(i+1, etapa +1 ):\n",
        "      # print(\"Comprobando diagonal de \" + str(i) + \" y \" + str(j))\n",
        "      if abs(i-j) == abs(SOLUCION[i]-SOLUCION[j]) : return False\n",
        "  return True\n",
        "\n",
        "# Traduce la solución al tablero\n",
        "################################################################\n",
        "def escribe_solucion(S):\n",
        "################################################################\n",
        "  n = len(S)\n",
        "  for x in range(n):\n",
        "    print(\"\")\n",
        "    for i in range(n):\n",
        "      if S[i] == x+1:\n",
        "        print(\" X \" , end=\"\")\n",
        "      else:\n",
        "        print(\" - \", end=\"\")\n",
        "\n",
        "\n",
        "\n",
        "# Proceso principal de N-Reinas\n",
        "################################################################\n",
        "def reinas(N, solucion=[],etapa=0):\n",
        "################################################################\n",
        "### ....\n",
        "  if len(solucion) == 0:         # [0,0,0...]\n",
        "    solucion = [0 for i in range(N) ]\n",
        "\n",
        "  for i in range(1, N+1):\n",
        "    solucion[etapa] = i\n",
        "    if es_prometedora(solucion, etapa):\n",
        "      if etapa == N-1:\n",
        "        print(solucion)\n",
        "      else:\n",
        "        reinas(N, solucion, etapa+1)\n",
        "    else:\n",
        "      None\n",
        "\n",
        "  solucion[etapa] = 0\n",
        "\n",
        "reinas(8,solucion=[],etapa=0)"
      ],
      "execution_count": null,
      "outputs": []
    },
    {
      "cell_type": "code",
      "metadata": {
        "id": "eTZclKH9QV0R",
        "colab": {
          "base_uri": "https://localhost:8080/"
        },
        "outputId": "1a9c9819-c588-479d-e178-03f2d8abcdde"
      },
      "source": [
        "escribe_solucion([1, 5, 8, 6, 3, 7, 2, 4])"
      ],
      "execution_count": null,
      "outputs": [
        {
          "output_type": "stream",
          "name": "stdout",
          "text": [
            "\n",
            " X  -  -  -  -  -  -  - \n",
            " -  -  -  -  -  -  X  - \n",
            " -  -  -  -  X  -  -  - \n",
            " -  -  -  -  -  -  -  X \n",
            " -  X  -  -  -  -  -  - \n",
            " -  -  -  X  -  -  -  - \n",
            " -  -  -  -  -  X  -  - \n",
            " -  -  X  -  -  -  -  - "
          ]
        }
      ]
    },
    {
      "cell_type": "code",
      "metadata": {
        "id": "TocxR55dQWq5",
        "outputId": "2765c61f-08ee-478a-8123-9d4bb082e95d",
        "colab": {
          "base_uri": "https://localhost:8080/",
          "height": 365
        }
      },
      "source": [
        "# Viaje por el rio - Programación dinámica\n",
        "################################################################################\n",
        "\n",
        "TARIFAS = [\n",
        "[0,5,4,3,999,999,999],\n",
        "[999,0,999,2,3,999,11],\n",
        "[999,999, 0,1,999,4,10],\n",
        "[999,999,999, 0,5,6,9],\n",
        "[999,999, 999,999,0,999,4],\n",
        "[999,999, 999,999,999,0,3],\n",
        "[999,999,999,999,999,999,0]\n",
        "]\n",
        "\n",
        "# 999 se puede sustituir por float(\"inf\")\n",
        "\n",
        "\n",
        "# Calculo de la matriz de PRECIOS y RUTAS\n",
        "################################################################\n",
        "def Precios(TARIFAS):\n",
        "################################################################\n",
        "  # Total de Nodos\n",
        "  N = len(TARIFAS[0])\n",
        "\n",
        "  # Inicialización de la tabla de precios\n",
        "  PRECIOS = [ [9999]*N for i in [9999]*N]\n",
        "  RUTA = [ [\"\"]*N for i in [\"\"]*N]\n",
        "\n",
        "  for i in range(0,N-1):\n",
        "    RUTA[i][i] = i             # Para ir de i a i se \"pasa por i\"\n",
        "    PRECIOS[i][i] = 0          # Para ir de i a i se se paga 0\n",
        "    for j in range(i+1, N):\n",
        "      MIN = TARIFAS[i][j]\n",
        "      RUTA[i][j] = i\n",
        "\n",
        "      for k in range(i, j):\n",
        "        if PRECIOS[i][k] + TARIFAS[k][j] < MIN:\n",
        "            MIN = min(MIN, PRECIOS[i][k] + TARIFAS[k][j] )\n",
        "            RUTA[i][j] = k          # Anota que para ir de i a j hay que pasar por k\n",
        "        PRECIOS[i][j] = MIN\n",
        "\n",
        "  return PRECIOS,RUTA\n",
        "################################################################\n",
        "\n",
        "PRECIOS,RUTA = Precios(TARIFAS)\n",
        "# print(PRECIOS[0][6])\n",
        "\n",
        "print(\"PRECIOS\")\n",
        "for i in range(len(TARIFAS)):\n",
        "  print(PRECIOS[i])\n",
        "\n",
        "print(\"\\nRUTA\")\n",
        "for i in range(len(TARIFAS)):\n",
        "  print(RUTA[i])\n",
        "\n",
        "# Determinar la ruta con Recursividad\n",
        "def calcular_ruta(RUTA, desde, hasta):\n",
        "  if desde == hasta:\n",
        "    # print(\"Ir a :\" + str(desde))\n",
        "    return \"\"\n",
        "  else:\n",
        "    return str(calcular_ruta( RUTA, desde, RUTA[desde][hasta])) +  \\\n",
        "                ',' + \\\n",
        "                str(RUTA[desde][hasta] \\\n",
        "              )\n",
        "\n",
        "print(\"\\nLa ruta es:\")\n",
        "calcular_ruta(RUTA, 0,6)"
      ],
      "execution_count": null,
      "outputs": [
        {
          "output_type": "stream",
          "name": "stdout",
          "text": [
            "PRECIOS\n",
            "[0, 5, 4, 3, 8, 8, 11]\n",
            "[9999, 0, 999, 2, 3, 8, 7]\n",
            "[9999, 9999, 0, 1, 6, 4, 7]\n",
            "[9999, 9999, 9999, 0, 5, 6, 9]\n",
            "[9999, 9999, 9999, 9999, 0, 999, 4]\n",
            "[9999, 9999, 9999, 9999, 9999, 0, 3]\n",
            "[9999, 9999, 9999, 9999, 9999, 9999, 9999]\n",
            "\n",
            "RUTA\n",
            "[0, 0, 0, 0, 1, 2, 5]\n",
            "['', 1, 1, 1, 1, 3, 4]\n",
            "['', '', 2, 2, 3, 2, 5]\n",
            "['', '', '', 3, 3, 3, 3]\n",
            "['', '', '', '', 4, 4, 4]\n",
            "['', '', '', '', '', 5, 5]\n",
            "['', '', '', '', '', '', '']\n",
            "\n",
            "La ruta es:\n"
          ]
        },
        {
          "output_type": "execute_result",
          "data": {
            "text/plain": [
              "',0,2,5'"
            ],
            "application/vnd.google.colaboratory.intrinsic+json": {
              "type": "string"
            }
          },
          "metadata": {},
          "execution_count": 30
        }
      ]
    },
    {
      "cell_type": "markdown",
      "source": [
        "# Problema: Encontrar los dos puntos más cercanos"
      ],
      "metadata": {
        "id": "CruXTkPavWia"
      }
    },
    {
      "cell_type": "markdown",
      "source": [
        "## Lista 1D"
      ],
      "metadata": {
        "id": "oPoRc29Kxxqr"
      }
    },
    {
      "cell_type": "code",
      "source": [
        "## Imports\n",
        "import numpy as np"
      ],
      "metadata": {
        "id": "P5gyzfjrvV0w"
      },
      "execution_count": null,
      "outputs": []
    },
    {
      "cell_type": "code",
      "source": [
        "# Tamaño de la lista\n",
        "n = 10\n",
        "\n",
        "# Generacion de lista dimension 1 aleatoria ( 0 -  500)\n",
        "numeros_random = np.random.randint(0, 500, size=n)\n",
        "\n",
        "# Resultados\n",
        "display(f\"Lista: {numeros_random}\")"
      ],
      "metadata": {
        "colab": {
          "base_uri": "https://localhost:8080/",
          "height": 35
        },
        "id": "ih1KBmsbxKCT",
        "outputId": "233a3ec5-7167-4fd3-c10c-6dc468a9692a"
      },
      "execution_count": null,
      "outputs": [
        {
          "output_type": "display_data",
          "data": {
            "text/plain": [
              "'Lista: [260 227 142 384 149 212  43 215 466 186]'"
            ],
            "application/vnd.google.colaboratory.intrinsic+json": {
              "type": "string"
            }
          },
          "metadata": {}
        }
      ]
    },
    {
      "cell_type": "markdown",
      "source": [
        "### Fuerza Bruta\n",
        "\n",
        "- Calcular la complejidad. ¿Se puede mejorar?:\n",
        "  - Tendremos una complejidad de O(n^2), ya que usamos dos ciclos anidados, a pesar de que en el segundo ciclo tenemos i + 1 hasta n - 1, tendremos que esto sera de la forma: (n * n-1)/2, cuando n tiende a infinito esto sera de la forma (n^2)\n",
        "  - Podriamos mejorar los tiempos usando otro tipos de tecnicas o incluso librerias externas tales como numpy"
      ],
      "metadata": {
        "id": "WQasK7kT0vnA"
      }
    },
    {
      "cell_type": "code",
      "source": [
        "# Determinar los puntos mas cercanos usando fuerza bruta\n",
        "def encontrar_mas_cercanos_brute_force(numeros):\n",
        "  longitud_lista = len(numeros)\n",
        "\n",
        "  # Caso lista tenga longitud 1\n",
        "  if longitud_lista == 1:\n",
        "    print(\"Longitud de la lista no valida\")\n",
        "    return None\n",
        "\n",
        "  # Iniciar dif maxima como infinito\n",
        "  mejor_diferencia = float('inf')\n",
        "  pareja_mejor_diferencia = None\n",
        "\n",
        "  # Ciclo anidado para comparar cada elemento de la lista con el resto\n",
        "  for i in range(longitud_lista - 1):\n",
        "\n",
        "        # Comparar desde i+1 para no repetir casos ya evaluados\n",
        "        for j in range(i + 1, longitud_lista):\n",
        "\n",
        "            # Valor absoluto, supondremos 2 - 1 = |1| = 1 - 2 = |-1|\n",
        "            diferencia_actual = abs(numeros[i] - numeros[j])\n",
        "\n",
        "            # Reemplazamos si tenemos una dif actual mejor\n",
        "            if diferencia_actual < mejor_diferencia:\n",
        "                mejor_diferencia = diferencia_actual\n",
        "                pareja_mejor_diferencia = (numeros[i], numeros[j])\n",
        "\n",
        "  return pareja_mejor_diferencia"
      ],
      "metadata": {
        "id": "4mgYsMK5wqOb"
      },
      "execution_count": null,
      "outputs": []
    },
    {
      "cell_type": "code",
      "source": [
        "display(f\"Resultado Fuerza Bruta: {encontrar_mas_cercanos_brute_force(numeros_random)}\")"
      ],
      "metadata": {
        "colab": {
          "base_uri": "https://localhost:8080/",
          "height": 35
        },
        "id": "IN2MayeE0xvV",
        "outputId": "1efcda26-9909-4d8e-f3cf-b4f79906de12"
      },
      "execution_count": null,
      "outputs": [
        {
          "output_type": "display_data",
          "data": {
            "text/plain": [
              "'Resultado Fuerza Bruta: (212, 215)'"
            ],
            "application/vnd.google.colaboratory.intrinsic+json": {
              "type": "string"
            }
          },
          "metadata": {}
        }
      ]
    },
    {
      "cell_type": "markdown",
      "source": [
        "## Lista 2D"
      ],
      "metadata": {
        "id": "Bp5_XmyPIDHw"
      }
    },
    {
      "cell_type": "code",
      "source": [
        "## Imports\n",
        "import numpy as np"
      ],
      "metadata": {
        "id": "B8rsDUOsIDHw"
      },
      "execution_count": null,
      "outputs": []
    },
    {
      "cell_type": "code",
      "source": [
        "# Tamaño de la lista\n",
        "rows = 10\n",
        "cols = 10\n",
        "\n",
        "# Generacion de matriz nxm dimension 1 aleatoria ( 0 -  500)\n",
        "random_matrix = np.random.randint(0, 501, size=(rows, cols))\n",
        "\n",
        "# Resultados\n",
        "display(f\"Lista: {random_matrix}\")"
      ],
      "metadata": {
        "colab": {
          "base_uri": "https://localhost:8080/",
          "height": 209
        },
        "outputId": "8b6a0bb4-7870-4ff7-d464-83a651f4e4de",
        "id": "5vSjOnnlIDHx"
      },
      "execution_count": 117,
      "outputs": [
        {
          "output_type": "display_data",
          "data": {
            "text/plain": [
              "'Lista: [[100   1 331 457 335 426 309  81 366 118]\\n [398 331 461 108 417  21  38 243 399 432]\\n [ 29 446 116 269  97 149 470 240 242  22]\\n [412 471 134 154  22 401 179 442 311 474]\\n [200  13 248  83 471 120 254 211 451 175]\\n [469 236 368 172 125 251 495  80 479 456]\\n [343 311  15 485 128 378  47 191 336 171]\\n [137 468 395  90 239 167 468 335 439 305]\\n [412 118  53 321 289 153 178 401  34  48]\\n [  2   6 357  41 177 156 293 452 226 206]]'"
            ],
            "application/vnd.google.colaboratory.intrinsic+json": {
              "type": "string"
            }
          },
          "metadata": {}
        },
        {
          "output_type": "display_data",
          "data": {
            "text/plain": [
              "array([100,   1, 331, 457, 335, 426, 309,  81, 366, 118, 398, 331, 461,\n",
              "       108, 417,  21,  38, 243, 399, 432,  29, 446, 116, 269,  97, 149,\n",
              "       470, 240, 242,  22, 412, 471, 134, 154,  22, 401, 179, 442, 311,\n",
              "       474, 200,  13, 248,  83, 471, 120, 254, 211, 451, 175, 469, 236,\n",
              "       368, 172, 125, 251, 495,  80, 479, 456, 343, 311,  15, 485, 128,\n",
              "       378,  47, 191, 336, 171, 137, 468, 395,  90, 239, 167, 468, 335,\n",
              "       439, 305, 412, 118,  53, 321, 289, 153, 178, 401,  34,  48,   2,\n",
              "         6, 357,  41, 177, 156, 293, 452, 226, 206])"
            ]
          },
          "metadata": {}
        }
      ]
    },
    {
      "cell_type": "markdown",
      "source": [
        "### Fuerza Bruta D2"
      ],
      "metadata": {
        "id": "XnExKeSTIDHx"
      }
    },
    {
      "cell_type": "code",
      "source": [
        "# Determinar los puntos mas cercanos usando fuerza bruta\n",
        "def encontrar_mas_cercanos_brute_force_d2(matriz):\n",
        "  matriz_plana = random_matrix.flatten()\n",
        "\n",
        "  return encontrar_mas_cercanos_brute_force(matriz_plana)"
      ],
      "metadata": {
        "id": "a1J3R0voIDHx"
      },
      "execution_count": 118,
      "outputs": []
    },
    {
      "cell_type": "code",
      "source": [
        "display(f\"Resultado Fuerza Bruta: {encontrar_mas_cercanos_brute_force_d2(random_matrix)}\")"
      ],
      "metadata": {
        "colab": {
          "base_uri": "https://localhost:8080/",
          "height": 35
        },
        "outputId": "be706d9b-1b80-4b86-d111-c7bf5d280be4",
        "id": "4XciHnVxIDHx"
      },
      "execution_count": 119,
      "outputs": [
        {
          "output_type": "display_data",
          "data": {
            "text/plain": [
              "'Resultado Fuerza Bruta: (331, 331)'"
            ],
            "application/vnd.google.colaboratory.intrinsic+json": {
              "type": "string"
            }
          },
          "metadata": {}
        }
      ]
    },
    {
      "cell_type": "markdown",
      "source": [
        "## Lista 3D"
      ],
      "metadata": {
        "id": "OkiUP3FPKGSh"
      }
    },
    {
      "cell_type": "code",
      "source": [
        "## Imports\n",
        "import numpy as np"
      ],
      "metadata": {
        "id": "ucIpTz0JKGSn"
      },
      "execution_count": null,
      "outputs": []
    },
    {
      "cell_type": "code",
      "source": [
        "# Tamaño de la lista\n",
        "dimensiones = (10, 10, 10)\n",
        "\n",
        "# Generacion de matriz nxm dimension 1 aleatoria ( 0 -  500)\n",
        "random_matrix_3d = np.random.randint(0, 501, size=(dimensiones))\n",
        "\n",
        "# Resultados\n",
        "display(f\"Lista: {random_matrix_3d}\")"
      ],
      "metadata": {
        "colab": {
          "base_uri": "https://localhost:8080/",
          "height": 104
        },
        "outputId": "518fbfb9-1b98-4e22-c03a-acc2b85a6317",
        "id": "E-7KYwxjKGSn"
      },
      "execution_count": 122,
      "outputs": [
        {
          "output_type": "display_data",
          "data": {
            "text/plain": [
              "'Lista: [[[305 432 322  21 249 102 410  50 307   1]\\n  [ 80 171   8  78 182 441 420   4 188 375]\\n  [387  56 477 291 166 392 168 360 358 344]\\n  [143   1 413 304 228 245  58 259 155 358]\\n  [  0  82 383  20 205 266 175 288  80 234]\\n  [477  33 310 496 208  23  24 479 484 238]\\n  [490 352  71  63   7 111  40 241 316 262]\\n  [173  34 410 262 144 162 148 165 204 248]\\n  [440 440 141 103 121 199 195 202 246 400]\\n  [122 154 359 433 190 125 208 395 403 128]]\\n\\n [[252 372 460 201   2 381 219 343 442 313]\\n  [423 228 475 481 230 234 490 171 384 145]\\n  [191 311 408 358 415 145  19 366  58  86]\\n  [406 330 329 225   3 167  95  53  14 295]\\n  [ 60 495  67 364 102  70 421 385  86 224]\\n  [235 267 146  80 235   6 495 457 459  46]\\n  [279 447  52 188 115 435  24 255 161   9]\\n  [488 391  54 303  76 326  86 476 388 369]\\n  [397 253 289 186 194 482 193 433 280 303]\\n  [389   7 386 289 434  59 140 298 328  17]]\\n\\n [[297  54 487  85  24 331 428 233  69 498]\\n  [ 47  44 281  62 235 187  86 297 384 112]\\n  [ 34 298 420 319 124 321 285 422 236 402]\\n  [159 153 176 225 128  75 495 107  48 125]\\n  [378 347 267 445  17 321 198  65 372 169]\\n  [377 423 178  74 339 321 403 228 205 324]\\n  [ 67 165 296 483 245 250 161 239 294 322]\\n  [112  89  56 264  94 111 335 406 151  56]\\n  [ 29 466 349 139  86 127 480 442 384 185]\\n  [399 498 261 252 195 294 196  62 175 220]]\\n\\n [[485 290 441 415 372 319 252  74 261 392]\\n  [330 331 454 224 297 268 155 349 452 114]\\n  [280 201 115 222 297  95 415 339 484 167]\\n  [ 26 260 311 446  38 144 329 127 306 399]\\n  [343   1 214 416  61 492 287 343 291 260]\\n  [360 434 113   6 193 309 244 350  25  48]\\n  [437 415 270  22 113 260  62 269 287 351]\\n  [194  27 160 219 372 281   7  20 301 129]\\n  [162 177 147 138 466 436 466 313 100 378]\\n  [397 373 420 288 331 473  88  81 448 340]]\\n\\n [[137 480 147 436 375 203 394  76 453 299]\\n  [384  61  26  21  93 410 335 220  27 363]\\n  [ 67 262 264 177 365  19 112 374 268  61]\\n  [225 446 453   8 371 108 328 270 248 384]\\n  [439 318 176 391 421 198 364 209  98 324]\\n  [356 286 167 111 336 359 436 116 276 340]\\n  [387 483 400 351  81 345 439 474  68 104]\\n  [174  68 475 135 222  33 228 155   9 310]\\n  [379 372  90 278 301 359 443  45 294 189]\\n  [259 323 320 205 207 325  89 115 354  41]]\\n\\n [[473 218 153 466 379 367  58 490  91  46]\\n  [ 72 500 105 105 323 398  65 119 499 381]\\n  [413 375 280 337 406 253  23 288 126 285]\\n  [397 166  88 483 411 298 127 153 445 292]\\n  [116 465  64  38 236 449   2 178  20 387]\\n  [205 444 391 234 323 280  41 384 385 118]\\n  [  8  79 163 420  82 452 390   6 209 389]\\n  [134 281 183 139 397 134 228 173 447  36]\\n  [ 77 447  68 315  57 466 428 472  89  83]\\n  [ 85 333 380 357 102 288  43 349 372 499]]\\n\\n [[236  22 427 157 427  81 288 172 304 177]\\n  [336  88 275  46 164 280 453 365 330 412]\\n  [136 286  85 108 144 122 313 403 192 229]\\n  [217 147 364 180  89 422 238 282 310 255]\\n  [219 120 415  24  46 485 234 434 178 268]\\n  [393 379 205  83 177  21  56 148 280  72]\\n  [305 242 442 174 236  69 206 207 407 277]\\n  [235 498 207   8 436  21 183 202 384 405]\\n  [187 296 286 451 148 242 458 397 401 294]\\n  [140 296 459 107 184  91 465 421 158 480]]\\n\\n [[184 225  25 494 194  66  49 215 157 193]\\n  [ 34 478 474  48 480  29 129  75 283 469]\\n  [144  20 468 323 338 282 450 332 303 326]\\n  [408 373 313  74 123 182 281 499 410 448]\\n  [282 306 328 461 476 205 343  76 290 366]\\n  [284 152 459  96 290 126 164 170 196 288]\\n  [229 468  28 154 119 234 316 227  18 303]\\n  [ 53 195  15 456 111 176 437 367 290 269]\\n  [107 170  70 483 208 179 252 110 161 231]\\n  [362 397 429  78 409 167  15 223 162 439]]\\n\\n [[ 66 423  92 158 494 183  31 354 430  99]\\n  [393  53  79 354 292 398 179 352 460  97]\\n  [428   3 361 344  53 359 455 325 384 211]\\n  [287 427  48 108 451 143 299 181 161 493]\\n  [ 69 197 331 436  48 487 273 493 297 431]\\n  [421 394 374 335 148 171 276 365  33  71]\\n  [400  97  60  50 201 500 115 311 146 125]\\n  [195  31 229 180  85 199 179  71  44  36]\\n  [ 57 143 251  16 304 333 466 498 390 303]\\n  [122 430 387 106 205  28 169 325 167 289]]\\n\\n [[322 480 406 285 395 369 366 146 106 429]\\n  [305 171 109 140 361 358 393 317  24 306]\\n  [402 413 354 272 395  18 189  80 236 277]\\n  [284  60 339 244 334 328 417 113 492 463]\\n  [240 210 383 252 320  84 162  79 270 400]\\n  [158 274 315 118 133 358 118 219 493 123]\\n  [127 265 499 310 196  27 182 336 293 111]\\n  [311 488 235 369 426 125 313 266  20 313]\\n  [375 254  40  67 396 437  26  81 243 211]\\n  [487 360 236 216 180  89 423 486 459 409]]]'"
            ],
            "application/vnd.google.colaboratory.intrinsic+json": {
              "type": "string"
            }
          },
          "metadata": {}
        }
      ]
    },
    {
      "cell_type": "markdown",
      "source": [
        "### Fuerza Bruta D3"
      ],
      "metadata": {
        "id": "KOCoCMm1KGSo"
      }
    },
    {
      "cell_type": "code",
      "source": [
        "# Determinar los puntos mas cercanos usando fuerza bruta\n",
        "def encontrar_mas_cercanos_brute_force_d3(matriz):\n",
        "  matriz_plana = random_matrix.flatten()\n",
        "\n",
        "  return encontrar_mas_cercanos_brute_force(matriz_plana)"
      ],
      "metadata": {
        "id": "kqe2a3i_KGSo"
      },
      "execution_count": 123,
      "outputs": []
    },
    {
      "cell_type": "code",
      "source": [
        "display(f\"Resultado Fuerza Bruta: {encontrar_mas_cercanos_brute_force_d3(random_matrix_3d)}\")"
      ],
      "metadata": {
        "colab": {
          "base_uri": "https://localhost:8080/",
          "height": 35
        },
        "outputId": "5343d179-19e7-426d-a8bd-0cbded3e8924",
        "id": "OtEGNzDeKGSo"
      },
      "execution_count": 124,
      "outputs": [
        {
          "output_type": "display_data",
          "data": {
            "text/plain": [
              "'Resultado Fuerza Bruta: (331, 331)'"
            ],
            "application/vnd.google.colaboratory.intrinsic+json": {
              "type": "string"
            }
          },
          "metadata": {}
        }
      ]
    }
  ]
}
