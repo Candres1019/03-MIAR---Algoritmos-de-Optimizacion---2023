{
  "cells": [
    {
      "cell_type": "markdown",
      "metadata": {
        "id": "hVbXYX-RfPWh"
      },
      "source": [
        "# Algoritmos de optimización - Trabajo Práctico<br>\n",
        "Nombre y Apellidos: Andres Mateo Calderon Ortega  <br>\n",
        "Url: https://github.com/Candres1019/03-MIAR---Algoritmos-de-Optimizacion---2023/tree/main/SEMINARIO<br>\n",
        "Google Colab: https://colab.research.google.com/drive/1aGwSpCjFPkLG47e21e2zhKEHuVUsR3BO?usp=sharing <br>\n",
        "Problema:\n",
        ">1. Sesiones de doblaje <br>\n",
        "\n",
        "Descripción del problema:\n",
        "\n",
        "Se precisa coordinar el doblaje de una película.\n",
        "- Los actores del doblaje deben coincidir en las tomas en las que sus personajes aparecen juntos en las diferentes tomas.\n",
        "- Los actores de doblaje cobran todos la misma cantidad por cada día que deben desplazarse hasta el estudio de grabación independientemente del número de tomas que se graben.\n",
        "- No es posible grabar más de 6 tomas por día.\n",
        "- Una vez se graba una toma no se vuelve a grabar\n",
        "- El objetivo es planificar las sesiones por día de manera que el gasto por los servicios de los actores de doblaje sea el menor posible.\n",
        "\n",
        "Los datos son:\n",
        "Número de actores: 10\n",
        "Número de tomas : 30\n",
        "Actores/Tomas : Tabla https://bit.ly/36D8IuK                                               "
      ]
    },
    {
      "cell_type": "markdown",
      "metadata": {
        "id": "Sbo9IqQtpaHZ"
      },
      "source": [
        "# Modelo\n",
        "- ¿Como represento el espacio de soluciones?\n",
        "- ¿Cual es la función objetivo?\n",
        "- ¿Como implemento las restricciones?"
      ]
    },
    {
      "cell_type": "markdown",
      "metadata": {
        "id": "Mcym0RqZ5ugy"
      },
      "source": [
        "### ¿Como represento el espacio de soluciones?\n",
        "\n",
        "Representaremos el espacio de soluciones como una **Matriz**, dado que usaremos el lenguaje de programación de python, aprovecharemos del mismo la flexibilidad que tiene el tipo de dato **lista**, ya que este tipo de objeto permite contener cualquier otro tipo de dato, incluido otras listas, y a partir de esto podremos generar una matriz donde está será accesible de la forma: `matriz_python[i][j]` dando a enter como i la fila y el elemento j como la columna.\n",
        "\n",
        "Antes de entender el cómo será nuestro espacio de soluciones es valioso comprender como será nuestra entrada, la cual será también una matriz en la cual tendremos que las columnas representaran al **actor** (1,2,3...n) y las **filas** será el número de tomas (1,2,3...n) por lo cual cuando accedamos a esta matriz tendremos que:\n",
        "\n",
        "- Matriz_Entrada(i, j) = 0 , El actor con indice **j** **NO** participa en la toma con indice **i**\n",
        "- Matriz_Entrada(i, j) = 1 , El actor con indice **j** **SI** participa en la toma con indice **i**\n",
        "\n",
        "| No Toma | Actor 1      | Actor 2        | ... |\n",
        "|---------|--------------|----------------|-----|\n",
        "| 1       |       1      |       0        | ... |\n",
        "| 2       |       0      |       1        | ... |\n",
        "| 3       |       1      |       1        | ... |\n",
        "| ...     | ...          | ...            | ... |\n",
        "\n",
        "\n",
        "En el caso de la matriz de salida del algoritmo tendremos que será representada de la siguiente manera, en las columnas tendremos almacenados los números de las tomas que se deben tomar (1,2,3,x,y,z), pero más importantes seran las filas, ya que estas representarán el día (1,2,3...n) en el cual se deben grabar las tomas contenidas en esas filas, estas filas tienen una restricción máxima de 6 tomas diarias,\n",
        "Ejemplo1:\n",
        "\n",
        "| Dia |   |   |   |    |    |    |\n",
        "|-----|---|---|---|----|----|----|\n",
        "| 1   | 1 | 2 | 3 | 4  | 5  | 6  |\n",
        "| 2   | 7 | 8 | 9 | 10 | 11 | 12 |\n",
        "\n",
        "Para la matriz anterior significa que en el día 1 se deben grabar las tomas 1-6 y en el día 2 se deben grabar las tomas 7-12\n",
        "\n",
        "Ejemplo2:\n",
        "\n",
        "| Dia |   |   |   |   |    |    |\n",
        "|-----|---|---|---|---|----|----|\n",
        "|1    | 3 | 4 | 5 | 6 | 10 | 11 |\n",
        "|2    | 1 | 2 | 7 | 8 | 9  | 12 |\n",
        "\n",
        "Para la matriz anterior significa que en el día 1 se deben grabar las tomas [3,4,5,6,10,11] y en el día 2 se deben grabar las tomas [1,2,7,8,9,12]\n",
        "\n",
        "Para la matriz resultante, cada toma que aparezca significa que deben ir todos los actores que estén registrados para esta toma.\n",
        "\n",
        "La siguiente será nuestra matriz para usar como entrada del problema, donde tendremos un total de 10 actores y 30 tomas"
      ]
    },
    {
      "cell_type": "code",
      "execution_count": null,
      "metadata": {
        "id": "jTVr-olf5ugy"
      },
      "outputs": [],
      "source": [
        "# Matriz que representa la entrada del problema en la cual:\n",
        "## las columnas indican el numero de actor Ej: Columa 1 = Actor 1,\n",
        "## cada fila representa el numero de la toma Ej: Fila 1 = Toma 1,\n",
        "## si la casilla a(i,j) es 1 representa que el actor j debe estar presente para la toma i\n",
        "actorsRecordSchedule = []\n",
        "actorsRecordSchedule.append([1, 1, 1, 1, 1, 0, 0, 0, 0, 0]) # toma 1\n",
        "actorsRecordSchedule.append([0, 0, 1, 1, 1, 0, 0, 0, 0, 0]) # toma 2\n",
        "actorsRecordSchedule.append([0, 1, 0, 0, 1, 0, 1, 0, 0, 0]) # toma 3\n",
        "actorsRecordSchedule.append([1, 1, 0, 0, 0, 0, 1, 1, 0, 0]) # toma 4\n",
        "actorsRecordSchedule.append([0, 1, 0, 1, 0, 0, 0, 1, 0, 0]) # toma 5\n",
        "actorsRecordSchedule.append([1, 1, 0, 1, 1, 0, 0, 0, 0, 0]) # toma 6\n",
        "actorsRecordSchedule.append([1, 1, 0, 1, 1, 0, 0, 0, 0, 0]) # toma 7\n",
        "actorsRecordSchedule.append([1, 1, 0, 0, 0, 1, 0, 0, 0, 0]) # toma 8\n",
        "actorsRecordSchedule.append([1, 1, 0, 1, 0, 0, 0, 0, 0, 0]) # toma 9\n",
        "actorsRecordSchedule.append([1, 1, 0, 0, 0, 1, 0, 0, 1, 0]) # toma 10\n",
        "actorsRecordSchedule.append([1, 1, 1, 0, 1, 0, 0, 1, 0, 0]) # toma 11\n",
        "actorsRecordSchedule.append([1, 1, 1, 1, 0, 1, 0, 0, 0, 0]) # toma 12\n",
        "actorsRecordSchedule.append([1, 0, 0, 1, 1, 0, 0, 0, 0, 0]) # toma 13\n",
        "actorsRecordSchedule.append([1, 0, 1, 0, 0, 1, 0, 0, 0, 0]) # toma 14\n",
        "actorsRecordSchedule.append([1, 1, 0, 0, 0, 0, 1, 0, 0, 0]) # toma 15\n",
        "actorsRecordSchedule.append([0, 0, 0, 1, 0, 0, 0, 0, 0, 1]) # toma 16\n",
        "actorsRecordSchedule.append([1, 0, 1, 0, 0, 0, 0, 0, 0, 0]) # toma 17\n",
        "actorsRecordSchedule.append([0, 0, 1, 0, 0, 1, 0, 0, 0, 0]) # toma 18\n",
        "actorsRecordSchedule.append([1, 0, 1, 0, 0, 0, 0, 0, 0, 0]) # toma 19\n",
        "actorsRecordSchedule.append([1, 0, 1, 1, 1, 0, 0, 0, 0, 0]) # toma 20\n",
        "actorsRecordSchedule.append([0, 0, 0, 0, 0, 1, 0, 1, 0, 0]) # toma 21\n",
        "actorsRecordSchedule.append([1, 1, 1, 1, 0, 0, 0, 0, 0, 0]) # toma 22\n",
        "actorsRecordSchedule.append([1, 0, 1, 0, 0, 0, 0, 0, 0, 0]) # toma 23\n",
        "actorsRecordSchedule.append([0, 0, 1, 0, 0, 1, 0, 0, 0, 0]) # toma 24\n",
        "actorsRecordSchedule.append([1, 1, 0, 1, 0, 0, 0, 0, 0, 1]) # toma 25\n",
        "actorsRecordSchedule.append([1, 0, 1, 0, 1, 0, 0, 0, 1, 0]) # toma 26\n",
        "actorsRecordSchedule.append([0, 0, 0, 1, 1, 0, 0, 0, 0, 0]) # toma 27\n",
        "actorsRecordSchedule.append([1, 0, 0, 1, 0, 0, 0, 0, 0, 0]) # toma 28\n",
        "actorsRecordSchedule.append([1, 0, 0, 0, 1, 1, 0, 0, 0, 0]) # toma 29\n",
        "actorsRecordSchedule.append([1, 0, 0, 1, 0, 0, 0, 0, 0, 0]) # toma 30"
      ]
    },
    {
      "cell_type": "markdown",
      "metadata": {
        "id": "_iJSGIMe5ugy"
      },
      "source": [
        "### ¿Cual es la función objetivo?\n",
        "Para definir nuestra función objetivo debemos tener en cuenta que es lo que queremos hacer y qué factores no tomaremos en cuenta, nuestro objetivo será el minimizar el número total de desplazamientos al estudio de los actores, en este caso se nos menciona que cada actor cobra lo mismo por día independientemente de cuantas tomas o no grabe, dada esta condición podremos obviar este costo del actor, por ende el costo de un día en particular está asociado a la cantidad de actores (únicos) que participen en las tomas que sean programadas para ese día.\n",
        "\n",
        "Por ende, sea D el número de días de grabación y $\\ A_i $ la cantidad de actores únicos necesarios en el día  $\\ i $. Entonces, la función objetivo $\\ F $. Se definirá como la suma de la cantidad de actores únicos requeridos por día de grabación:\n",
        "\n",
        "$$\\begin{aligned}\n",
        "\\ F = \\sum_{i=1}^{D} A_i\n",
        "\\end{aligned}$$\n"
      ]
    },
    {
      "cell_type": "markdown",
      "metadata": {
        "id": "-pj4iASF5ugz"
      },
      "source": [
        "### ¿Como implemento las restricciones?\n",
        "\n",
        "Para este problema, la prima restricción que se nos plantea, es la de qué máximo podemos tener una cantidad de 6 tomas por día. Esta restricción es implementada en el algoritmo de la sig. Manera:\n",
        "\n",
        "`itertools.combinations(missingRecords, MAX_COMBINATIONS_PER_DAY)`\n",
        "\n",
        "Con esta línea de código lo que estamos obteniendo es una combinación de máximo 6 tomas por día. En caso de que la restricción cambie, es tan sencillo como editar esta constante.\n",
        "\n",
        "Para la segunda restricción, que es que todas las tomas deben ser asignadas una única vez (por ende deben ser todas asignadas), realizaremos uso de la función `validateSelectedSetOfRecords(...)`, que se aprovecha de la particularidad que posee el objeto de tipo set en python, de no permitir la repetición de objetos, y validará que estén contenidas en este la cantidad de tomas necesarias."
      ]
    },
    {
      "cell_type": "code",
      "execution_count": null,
      "metadata": {
        "id": "zpXagMNc5ugz"
      },
      "outputs": [],
      "source": [
        "## Import necesarios del problema\n",
        "import itertools\n",
        "import random\n",
        "from time import time"
      ]
    },
    {
      "cell_type": "code",
      "execution_count": null,
      "metadata": {
        "id": "4h3-KTj85ugz"
      },
      "outputs": [],
      "source": [
        "##\n",
        "# Verifica que una matriz de tomas resultado, contenga todas las tomas que se tienen, y esten presentes una unica vez\n",
        "# selectedRecords: Matriz de tomas resultado (Forma Lista de listas)\n",
        "# requiredLen: Longitud de la solucion requerida\n",
        "##\n",
        "def validateSelectedSetOfRecords(selectedRecords, requiredLen):\n",
        "    selectedRecordsSet = set()\n",
        "    for record in selectedRecords:\n",
        "        selectedRecordsSet.update(record)\n",
        "    return requiredLen == len(selectedRecordsSet)"
      ]
    },
    {
      "cell_type": "markdown",
      "metadata": {
        "id": "HZz52wOppp-U"
      },
      "source": [
        "# Análisis\n",
        "- ¿Que complejidad tiene el problema?. Orden de complejidad y Contabilizar el espacio de soluciones"
      ]
    },
    {
      "cell_type": "markdown",
      "metadata": {
        "id": "CZ-5BmpspttV"
      },
      "source": [
        "### Orden de complejidad:\n",
        "\n",
        "Para poder verificar la complejidad del algoritmo debemos primero conocer la cantidad de OE (Operaciones Elementales que se realizan), para esto tomaremos las dos más grandes, la búsqueda local, y la fuerza bruta.\n",
        "\n",
        "- Búsqueda aleatoria, dado que lo que hacemos en esta búsqueda aleatoria es recorrer la lista un número $K$ de veces, y de manera aleatoria cambiar las tomas de días e intentar mejorar el resultado, diremos que recorreremos la lista de longitud $N$ será recorrida $K$ veces, por ende tendremos una complejidad del tipo: $O(k*n)$ .\n",
        "- Fuerza Bruta, Dado que la fuerza bruta indica que debemos buscar todas las combinaciones posibles de tomas, vemos que es combinatoria sin repetición dadas las restricciones que se tienen, por ende tendremos una complejidad factorial, para este caso entonces diremos que la complejidad es del tipo $O(n!)$ .\n",
        "\n",
        "Teniendo en cuenta esto, podemos decir que el orden de complejidad de este algoritmo es de: $O(n!)$\n",
        "\n",
        "### Contabilizar el espacio de soluciones:\n",
        "Como se mencionó anteriormente, el problema tiene la forma de una combinatoria sin repetición, dado que tenemos el requerimiento de seleccionar 6 tomas de 30 posibles. Para esto, entonces deberemos aplicar la fórmula de la combinatoria sin repetición:\n",
        "\n",
        "$$\\begin{aligned}\n",
        "\\binom{n}{k} = \\frac{n!}{k! \\cdot (n-k)!}\n",
        "\\end{aligned}$$\n",
        "\n",
        "Teniendo en cuenta que:\n",
        "\n",
        "- $n$ es el número total de tomas (30).\n",
        "- $k$ es el número total de tomas posibles diarias (6).\n",
        "\n",
        "Por ende tendremos que:\n",
        "\n",
        "$$\\begin{aligned}\n",
        "\\binom{30}{6} = \\frac{30!}{6! \\cdot (30-6)!}\n",
        "\\end{aligned}$$\n",
        "\n",
        "Finalmente, solucionando, tenemos que la cantidad de soluciones posibles es:\n",
        "\n",
        "$$\\begin{aligned}\n",
        "\\binom{30}{6} = \\frac{30!}{6! \\cdot (30-6)!} = \\frac{30!}{6! \\cdot 24!} = 593775\n",
        "\\end{aligned}\n",
        "$$"
      ]
    },
    {
      "cell_type": "markdown",
      "metadata": {
        "id": "ixEJUwH_pv7M"
      },
      "source": [
        "# Diseño\n",
        "- ¿Que técnica utilizo? ¿Por qué?"
      ]
    },
    {
      "cell_type": "markdown",
      "metadata": {
        "id": "G7FgoXwk5ug0"
      },
      "source": [
        "Para el diseno y solucion de este problema se llevo a cabo un modelo de fuerza bruta que por todas y cada una de las iteraciones va probando cuales son las mejores combinaciones posibles, y llevando consigo el resultado mejor obtenido hasta el momento para comparar la solucion actual del momento contra la mejor solucion obtenida para el momento actual, dependiendo de esto se toma o no encuenta la solucion, para evitar tiempo demasiado largos debido a la cantidad de soluciones posibles, se decidio colocar un umbral de 33 movimientos que se considerara como un resultado optimo, adicionalmente se implemento una tecnica de busqueda local con la finalidad de intentar mejorar la solucion encontrada por el algoritmos de fuerza bruta, se opto por este tipo de algoritmos dada la complejidad del problema, ya que sabemos que con el algorimto de fuerza bruta seremos capaces de encontrar una solucion que nosotros consideremos optima."
      ]
    },
    {
      "cell_type": "code",
      "execution_count": null,
      "metadata": {
        "id": "e98y8bEK5ug0"
      },
      "outputs": [],
      "source": [
        "## Constantes del Algoritmo\n",
        "MAX_COMBINATIONS_PER_DAY = 6\n",
        "MIN_BEST_MOVEMENT = 33\n",
        "MAX_LOCAL_ITERATIONS = 500"
      ]
    },
    {
      "cell_type": "code",
      "execution_count": null,
      "metadata": {
        "id": "Xvvo_rSM5ug0"
      },
      "outputs": [],
      "source": [
        "# Contabilziar el numero de actores unicos presentes en una lista de tomas, realizando uso de una tabla con los actores.\n",
        "##\n",
        "# tomas: Lista con los indices de los actores\n",
        "# actorsRecordSchedule:  Matriz que representa la entrada del problema\n",
        "# return: Cantidad de actores unicos en las tomas dadas\n",
        "##\n",
        "def countTotalOfUniqueActors(redords, actorsRecordSchedule):\n",
        "    # Uso de sets aprovechando su caracteristica de no permitir indices repetidos\n",
        "    actors = set()\n",
        "    for record in redords:\n",
        "        # Convertimos la lista de actores de la toma en un conjunto y realizamos una unión con el conjunto de actores\n",
        "        actors |= set(i for i, actor in enumerate(actorsRecordSchedule[record]) if actor == 1)\n",
        "    # Devolvemos la cantidad de actores únicos\n",
        "    return len(actors)"
      ]
    },
    {
      "cell_type": "code",
      "execution_count": null,
      "metadata": {
        "id": "0Wurk3eu5ug0"
      },
      "outputs": [],
      "source": [
        "##\n",
        "# selectedSchedule: Resultado de la busqueda Fuerza Bruta realizada (Forma Lista de listas)\n",
        "# allRecordsAvailable: Ids de las tomas posibles (1,2,3...30,...n)\n",
        "# maxAttempts: Numero de intentos maximos para encontrar una nueva solucion\n",
        "# return: Mejor toma encotrada, Si no se encuentra una solución válida después de un número máximo de intentos, devolver la solución actual\n",
        "##\n",
        "def randomSearchBestSelectedSchedule(selectedSchedule, allRecordsAvailable, maxAttempts):\n",
        "    attempts = 0\n",
        "    while attempts < maxAttempts:\n",
        "        selectedSchedule = [list(record) for record in selectedSchedule]\n",
        "        # Elegir aleatoriamente una toma para modificar\n",
        "        randomSelectedRecord = random.randint(0, len(selectedSchedule) - 1)\n",
        "        modifiedSchedule = selectedSchedule[randomSelectedRecord].copy()\n",
        "        selectedRecordIndex = random.randint(0, len(modifiedSchedule) - 1)\n",
        "        newRecord = random.randint(1, 30)\n",
        "\n",
        "        # Verificar si el nuevo elemento ya está presente en alguna otra toma\n",
        "        while newRecord in sum(selectedSchedule, []):\n",
        "            newRecord = random.randint(1, 30)\n",
        "\n",
        "        modifiedSchedule[selectedRecordIndex] = newRecord\n",
        "\n",
        "        if validateSelectedSetOfRecords(selectedSchedule + [modifiedSchedule], len(allRecordsAvailable)):\n",
        "            # Reemplazar la toma modificada en la lista original\n",
        "            selectedSchedule[randomSelectedRecord] = modifiedSchedule\n",
        "            return selectedSchedule\n",
        "        attempts += 1\n",
        "\n",
        "    return selectedSchedule"
      ]
    },
    {
      "cell_type": "code",
      "execution_count": null,
      "metadata": {
        "id": "kssFzRbx5ug0"
      },
      "outputs": [],
      "source": [
        "##\n",
        "# Busca la mejor combinación de tomas para minimizar el número total de actores únicos, Tecnica Fuerza Bruta\n",
        "# missingRecords: Una lista de las tomas que aún no han sido seleccionadas.\n",
        "# selectedSchedule: Una lista de las tomas ya seleccionadas hasta el momento.\n",
        "# uniqueTotalActors: El número total de actores únicos ya seleccionados.\n",
        "# actorsRecordSchedule: Una matriz que representa la presencia de actores en cada toma.\n",
        "# numberOfTrips: El mejor número total de actores únicos encontrado hasta ahora.\n",
        "# bestSelectedSchedule: El mejor schedule seleccionado por el momento\n",
        "# Returns:\n",
        "# numberOfTrips: El mejor número total de actores únicos encontrado.\n",
        "# bestSelectedSchedule: La mejor combinación de tomas que produce el mejor total de actores únicos.\n",
        "##\n",
        "def bruteForzeFindBestSchedule(missingRecords, selectedSchedule, uniqueTotalActors, actorsRecordSchedule, numberOfTrips, bestSelectedSchedule):\n",
        "    # Verificar si ya se ha encontrado una solución óptima(Aceptable 33)\n",
        "    if numberOfTrips <= MIN_BEST_MOVEMENT:\n",
        "        return numberOfTrips, bestSelectedSchedule\n",
        "\n",
        "    # Verificar si no quedan más tomas para seleccionar\n",
        "    if not missingRecords:\n",
        "        if uniqueTotalActors < numberOfTrips:\n",
        "            numberOfTrips = uniqueTotalActors\n",
        "            bestSelectedSchedule[:] = selectedSchedule\n",
        "        return numberOfTrips, bestSelectedSchedule\n",
        "\n",
        "    # Ordenar las tomas restantes por la cantidad de actores presentes\n",
        "    missingRecords.sort(key=lambda x: sum(actorsRecordSchedule[x]))\n",
        "\n",
        "    # Generar todas las combinaciones posibles de tomas de tamaño 6\n",
        "    possibleSchedules = itertools.combinations(missingRecords, MAX_COMBINATIONS_PER_DAY)\n",
        "\n",
        "    # Seleccionar subconjunto de combinaciones prometedoras\n",
        "    for records in possibleSchedules:\n",
        "        actors = countTotalOfUniqueActors(records, actorsRecordSchedule)\n",
        "        newSelectedSchedule = selectedSchedule + [records]\n",
        "        newUniqueTotalActors = uniqueTotalActors + actors\n",
        "        newMissingRecords = [record for record in missingRecords if record not in records]\n",
        "\n",
        "        foundNumberOfTrips, foundSelectedSchedule = bruteForzeFindBestSchedule(newMissingRecords, newSelectedSchedule, newUniqueTotalActors, actorsRecordSchedule, numberOfTrips, bestSelectedSchedule)\n",
        "\n",
        "        # Verificar si se encontró una solución óptima\n",
        "        if foundNumberOfTrips is not None:\n",
        "            if foundNumberOfTrips <= MIN_BEST_MOVEMENT:\n",
        "                return foundNumberOfTrips, foundSelectedSchedule\n",
        "\n",
        "    # Si no se encuentra ninguna solución válida, devolver los valores actuales\n",
        "    return numberOfTrips, bestSelectedSchedule\n"
      ]
    },
    {
      "cell_type": "code",
      "execution_count": null,
      "metadata": {
        "id": "sRuYyYVW5ug1"
      },
      "outputs": [],
      "source": [
        "##\n",
        "# actorsRecordSchedule: Una matriz que representa la relación de disponibilidad de actores para cada toma.\n",
        "# Returns:\n",
        "# numberOfTrips (int): El menor número de desplazamientos al estudio de actores encontrado.\n",
        "# bestSelectedSchedule (list): La lista de tomas seleccionadas que minimiza el número de desplazamientos.\n",
        "#\n",
        "##\n",
        "def findBestSchedule(actorsRecordSchedule):\n",
        "    # Inicializacion de variables\n",
        "    numberOfTrips = float('inf')\n",
        "    bestSelectedSchedule = []\n",
        "\n",
        "    # Llamado (Fuerza Bruta)\n",
        "    numberOfTrips, bestSelectedSchedule = bruteForzeFindBestSchedule(list(range(30)), [], 0, actorsRecordSchedule, numberOfTrips, bestSelectedSchedule)\n",
        "    print(\"Resultados Fuerza Bruta:... \")\n",
        "    print(f\"El minimo desplazamientos encontrado fue de: [{numberOfTrips}]\")\n",
        "\n",
        "    # Llamado (Búsqueda Aleatoria)\n",
        "    for _ in range(MAX_LOCAL_ITERATIONS):\n",
        "        newSelectedSchedule = randomSearchBestSelectedSchedule(list(bestSelectedSchedule), set(range(1, 31)), MAX_LOCAL_ITERATIONS)\n",
        "        newUniqueTotalActors = sum([countTotalOfUniqueActors(record, actorsRecordSchedule) for record in newSelectedSchedule])\n",
        "\n",
        "        # Evaluar si la solución modificada es mejor\n",
        "        if newUniqueTotalActors < numberOfTrips:\n",
        "            numberOfTrips = newUniqueTotalActors\n",
        "            bestSelectedSchedule = newSelectedSchedule\n",
        "\n",
        "    return numberOfTrips, bestSelectedSchedule"
      ]
    },
    {
      "cell_type": "code",
      "execution_count": null,
      "metadata": {
        "id": "3q60vz9W5ug1"
      },
      "outputs": [],
      "source": [
        "# Mostrar el resultado de una forma mas legible.\n",
        "def showFinalSchedule(bestSelectedSchedule):\n",
        "    for i, schedule in enumerate(bestSelectedSchedule):\n",
        "        scheduleList = [record + 1 for record in schedule]  # Convertir la tupla a lista y agregar 1 a cada elemento\n",
        "        print(f\"Para el día [{i + 1}] se realizarán las tomas: {scheduleList}\")"
      ]
    },
    {
      "cell_type": "code",
      "execution_count": null,
      "metadata": {
        "colab": {
          "base_uri": "https://localhost:8080/"
        },
        "id": "5xvYBiiB5ug1",
        "outputId": "550c5b7e-9f64-447b-e921-3522ac509d0c"
      },
      "outputs": [
        {
          "output_type": "stream",
          "name": "stdout",
          "text": [
            "Resultados Fuerza Bruta:... \n",
            "El minimo desplazamientos encontrado fue de: [33]\n",
            "Resultados finales de la Busqueda: \n",
            "El minimo desplazamientos encontrado fue de: [33]\n",
            "Para el día [1] se realizarán las tomas: [16, 17, 18, 19, 21, 23]\n",
            "Para el día [2] se realizarán las tomas: [24, 27, 28, 30, 2, 3]\n",
            "Para el día [3] se realizarán las tomas: [5, 8, 9, 14, 22, 12]\n",
            "Para el día [4] se realizarán las tomas: [13, 6, 7, 20, 25, 1]\n",
            "Para el día [5] se realizarán las tomas: [15, 29, 4, 10, 26, 11]\n"
          ]
        }
      ],
      "source": [
        "# Inicialización de variables\n",
        "numberOfTrips, bestSelectedSchedule = findBestSchedule(actorsRecordSchedule)\n",
        "print(\"Resultados finales de la Busqueda: \")\n",
        "print(f\"El minimo desplazamientos encontrado fue de: [{numberOfTrips}]\")\n",
        "showFinalSchedule(bestSelectedSchedule)"
      ]
    }
  ],
  "metadata": {
    "colab": {
      "provenance": []
    },
    "kernelspec": {
      "display_name": "Python 3 (ipykernel)",
      "language": "python",
      "name": "python3"
    },
    "language_info": {
      "codemirror_mode": {
        "name": "ipython",
        "version": 3
      },
      "file_extension": ".py",
      "mimetype": "text/x-python",
      "name": "python",
      "nbconvert_exporter": "python",
      "pygments_lexer": "ipython3",
      "version": "3.11.6"
    }
  },
  "nbformat": 4,
  "nbformat_minor": 0
}